{
 "cells": [
  {
   "cell_type": "code",
   "execution_count": 1,
   "id": "3eadcfb0",
   "metadata": {},
   "outputs": [],
   "source": [
    "from sklearn.model_selection import train_test_split\n",
    "from sklearn.metrics import accuracy_score\n",
    "from imblearn.under_sampling import RandomUnderSampler, NeighbourhoodCleaningRule, OneSidedSelection\n",
    "from imblearn.over_sampling import RandomOverSampler, BorderlineSMOTE\n",
    "from sklearn.neighbors import KNeighborsClassifier\n",
    "from sklearn.ensemble import RandomForestClassifier\n",
    "from sklearn.linear_model import LogisticRegression\n",
    "from sklearn.svm import SVC\n",
    "from sklearn.ensemble import ExtraTreesClassifier\n",
    "import numpy as np\n",
    "import pandas as pd "
   ]
  },
  {
   "cell_type": "markdown",
   "id": "102b6a1d",
   "metadata": {},
   "source": [
    "\n",
    "## Load the Dataset\n"
   ]
  },
  {
   "cell_type": "code",
   "execution_count": 2,
   "id": "2e406e4d",
   "metadata": {},
   "outputs": [],
   "source": [
    "url = 'https://raw.githubusercontent.com/AnjulaMehto/Sampling_Assignment/main/Creditcard_data.csv'\n",
    "df = pd.read_csv(url)\n"
   ]
  },
  {
   "cell_type": "code",
   "execution_count": 3,
   "id": "48ae940f",
   "metadata": {},
   "outputs": [
    {
     "data": {
      "text/plain": [
       "0    763\n",
       "1      9\n",
       "Name: Class, dtype: int64"
      ]
     },
     "execution_count": 3,
     "metadata": {},
     "output_type": "execute_result"
    }
   ],
   "source": [
    "df['Class'].value_counts()"
   ]
  },
  {
   "cell_type": "code",
   "execution_count": 4,
   "id": "e7f4a1c4",
   "metadata": {},
   "outputs": [
    {
     "data": {
      "image/png": "[encoded data removed]",
      "text/plain": [
       "<Figure size 640x480 with 1 Axes>"
      ]
     },
     "metadata": {},
     "output_type": "display_data"
    }
   ],
   "source": [
    "import matplotlib.pyplot as plt\n",
    "import seaborn as sns\n",
    "sns.countplot(df['Class'])\n",
    "plt.show()"
   ]
  },
  {
   "cell_type": "code",
   "execution_count": 5,
   "id": "f3853a92",
   "metadata": {},
   "outputs": [],
   "source": [
    "X = df.drop('Class', axis=1)\n",
    "y = df['Class']"
   ]
  },
  {
   "cell_type": "code",
   "execution_count": 6,
   "id": "caec4c38",
   "metadata": {},
   "outputs": [],
   "source": [
    "X_train, X_test, y_train, y_test = train_test_split(X, y, test_size=0.2, random_state=100)"
   ]
  },
  {
   "cell_type": "code",
   "execution_count": 7,
   "id": "77d76b38",
   "metadata": {},
   "outputs": [],
   "source": [
    "z = 1.96\n",
    "m = 0.025  "
   ]
  },
  {
   "cell_type": "code",
   "execution_count": 8,
   "id": "5248ffb1",
   "metadata": {},
   "outputs": [],
   "source": [
    "n1 = int(np.ceil((z**2 * 0.1 * (1-0.1)) / (m**2)))\n",
    "n2 = int(np.ceil((z**2 * 0.1 * (1-0.1)) / (m**2)))\n",
    "n3 = int(np.ceil((z**2 * 0.1 * (1-0.1)) / (m**2)))\n",
    "n4 = int(np.ceil((z**2 * 0.1 * (1-0.1)) / (m**2)))\n",
    "n5 = int(np.ceil((z**2 * 0.1 * (1-0.1)) / (m**2)))"
   ]
  },
  {
   "cell_type": "code",
   "execution_count": 9,
   "id": "ad903b38",
   "metadata": {},
   "outputs": [],
   "source": [
    "sample1 = RandomUnderSampler(sampling_strategy='majority', random_state=100)\n",
    "sample2 = RandomOverSampler(sampling_strategy='minority', random_state=100)\n",
    "sample3 = BorderlineSMOTE(sampling_strategy='minority', random_state=100)\n",
    "sample4 = OneSidedSelection(sampling_strategy='majority')\n",
    "sample5 = NeighbourhoodCleaningRule(n_neighbors=3)"
   ]
  },
  {
   "cell_type": "code",
   "execution_count": 10,
   "id": "363bd4c7",
   "metadata": {},
   "outputs": [],
   "source": [
    "m1 = LogisticRegression(random_state=100,max_iter=500)\n",
    "m2 = KNeighborsClassifier()\n",
    "m3 = RandomForestClassifier(random_state=100)\n",
    "m4 = SVC(random_state=100)\n",
    "m5 = ExtraTreesClassifier(random_state=100)\n"
   ]
  },
  {
   "cell_type": "code",
   "execution_count": 11,
   "id": "04e555d4",
   "metadata": {},
   "outputs": [],
   "source": [
    "samples = {\n",
    "    'S1': sample1,\n",
    "    'S2': sample2,\n",
    "    'S3': sample3,\n",
    "    'S4': sample4,\n",
    "    'S5': sample5,\n",
    "}"
   ]
  },
  {
   "cell_type": "code",
   "execution_count": 12,
   "id": "330e059c",
   "metadata": {},
   "outputs": [],
   "source": [
    "models = {\n",
    "    'M1': m1,\n",
    "    'M2': m2,\n",
    "    'M3': m3,\n",
    "    'M4': m4,\n",
    "    'M5': m5,\n",
    "}"
   ]
  },
  {
   "cell_type": "code",
   "execution_count": 13,
   "id": "5160269c",
   "metadata": {},
   "outputs": [
    {
     "name": "stderr",
     "output_type": "stream",
     "text": [
      "C:\\Users\\jeetb\\anaconda3\\lib\\site-packages\\sklearn\\linear_model\\_logistic.py:458: ConvergenceWarning: lbfgs failed to converge (status=1):\n",
      "STOP: TOTAL NO. of ITERATIONS REACHED LIMIT.\n",
      "\n",
      "Increase the number of iterations (max_iter) or scale the data as shown in:\n",
      "    https://scikit-learn.org/stable/modules/preprocessing.html\n",
      "Please also refer to the documentation for alternative solver options:\n",
      "    https://scikit-learn.org/stable/modules/linear_model.html#logistic-regression\n",
      "  n_iter_i = _check_optimize_result(\n",
      "C:\\Users\\jeetb\\anaconda3\\lib\\site-packages\\sklearn\\linear_model\\_logistic.py:458: ConvergenceWarning: lbfgs failed to converge (status=1):\n",
      "STOP: TOTAL NO. of ITERATIONS REACHED LIMIT.\n",
      "\n",
      "Increase the number of iterations (max_iter) or scale the data as shown in:\n",
      "    https://scikit-learn.org/stable/modules/preprocessing.html\n",
      "Please also refer to the documentation for alternative solver options:\n",
      "    https://scikit-learn.org/stable/modules/linear_model.html#logistic-regression\n",
      "  n_iter_i = _check_optimize_result(\n",
      "C:\\Users\\jeetb\\anaconda3\\lib\\site-packages\\imblearn\\under_sampling\\_prototype_selection\\_edited_nearest_neighbours.py:140: FutureWarning: Unlike other reduction functions (e.g. `skew`, `kurtosis`), the default behavior of `mode` typically preserves the axis it acts along. In SciPy 1.11.0, this behavior will change: the default value of `keepdims` will become False, the `axis` over which the statistic is taken will be eliminated, and the value None will no longer be accepted. Set `keepdims` to True or False to avoid this warning.\n",
      "  nnhood_label, _ = mode(nnhood_label, axis=1)\n",
      "C:\\Users\\jeetb\\anaconda3\\lib\\site-packages\\sklearn\\linear_model\\_logistic.py:458: ConvergenceWarning: lbfgs failed to converge (status=1):\n",
      "STOP: TOTAL NO. of ITERATIONS REACHED LIMIT.\n",
      "\n",
      "Increase the number of iterations (max_iter) or scale the data as shown in:\n",
      "    https://scikit-learn.org/stable/modules/preprocessing.html\n",
      "Please also refer to the documentation for alternative solver options:\n",
      "    https://scikit-learn.org/stable/modules/linear_model.html#logistic-regression\n",
      "  n_iter_i = _check_optimize_result(\n"
     ]
    }
   ],
   "source": [
    "ans = {}\n",
    "for sampler_name, sampler in samples.items():\n",
    "    if sampler_name == 'S1':\n",
    "        n = n1\n",
    "    elif sampler_name == 'S2':\n",
    "        n = n2\n",
    "    elif sampler_name == 'S3':\n",
    "        n = n3\n",
    "    elif sampler_name == 'S4':\n",
    "        n = n4\n",
    "    else:\n",
    "        n = n5\n",
    "\n",
    "    X_resampled, y_resampled = sampler.fit_resample(X_train, y_train)\n",
    "    \n",
    "    if len(X_resampled) > n:\n",
    "        X_resampled = X_resampled[:n]\n",
    "        y_resampled = y_resampled[:n]\n",
    "    \n",
    "    for model_name, model in models.items():\n",
    "        model.fit(X_resampled, y_resampled)\n",
    "        \n",
    "        y_pred = model.predict(X_test)\n",
    "        \n",
    "        accuracy = accuracy_score(y_test, y_pred)\n",
    "        \n",
    "        if model_name in ans:\n",
    "            ans[model_name][sampler_name] = accuracy\n",
    "        else:\n",
    "            ans[model_name] = {sampler_name: accuracy}"
   ]
  },
  {
   "cell_type": "code",
   "execution_count": 14,
   "id": "59168c57",
   "metadata": {},
   "outputs": [
    {
     "name": "stdout",
     "output_type": "stream",
     "text": [
      "Results:\n",
      "\tSampling1   Sampling2   Sampling3   Sampling4   Sampling5\n",
      "M1    0.4129       0.9806       0.9806       0.9806       0.9806   \n",
      "M2    0.6258       0.9806       0.9806       0.9806       0.9806   \n",
      "M3    0.6065       0.9806       0.9806       0.9806       0.9806   \n",
      "M4    0.6387       0.9806       0.9806       0.9806       0.9806   \n",
      "M5    0.7226       0.9806       0.9806       0.9806       0.9806   \n"
     ]
    }
   ],
   "source": [
    "print('Results:')\n",
    "print('\\tSampling1   Sampling2   Sampling3   Sampling4   Sampling5')\n",
    "for model_name, model_results in ans.items():\n",
    "    print(model_name, end='')\n",
    "    for sampler_name in samples.keys():\n",
    "        if sampler_name in model_results:\n",
    "            print(f'    {model_results[sampler_name]:.4f}   ', end='')\n",
    "        else:\n",
    "            print('\\t\\t', end='')\n",
    "    print() "
   ]
  }
 ],
 "metadata": {
  "kernelspec": {
   "display_name": "Python 3 (ipykernel)",
   "language": "python",
   "name": "python3"
  },
  "language_info": {
   "codemirror_mode": {
    "name": "ipython",
    "version": 3
   },
   "file_extension": ".py",
   "mimetype": "text/x-python",
   "name": "python",
   "nbconvert_exporter": "python",
   "pygments_lexer": "ipython3",
   "version": "3.8.3"
  }
 },
 "nbformat": 4,
 "nbformat_minor": 5
}
